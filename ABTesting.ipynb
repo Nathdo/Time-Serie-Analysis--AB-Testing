{
 "cells": [
  {
   "cell_type": "markdown",
   "id": "4a35824e-df2d-42e8-a523-424f20d19d2f",
   "metadata": {},
   "source": [
    "# A/B Testing\n",
    "\n",
    "**A/B Testing, also known as split testing, is a method used to compare two versions of a webpage, app, or other digital content to determine which one performs better. It involves randomly assigning users to either the control group (version A) or the experimental group (version B) and measuring the performance of each version based on predefined metrics, such as click-through rates or conversion rates. This method helps businesses and developers make data-driven decisions to optimize user experience and achieve specific goals by identifying the most effective variations of their digital assets.**\n",
    "\n",
    "https://www.youtube.com/watch?v=KZe0C0Qq4p0&t=4562s"
   ]
  },
  {
   "cell_type": "code",
   "execution_count": 1,
   "id": "3bcd18d6-8a8b-4eb9-ab67-03fa8b018cbe",
   "metadata": {},
   "outputs": [],
   "source": [
    "import pandas as pd\n",
    "import numpy as np\n",
    "import warnings\n",
    "warnings.filterwarnings('ignore')\n",
    "import random"
   ]
  },
  {
   "cell_type": "markdown",
   "id": "390bfc84-1064-4953-8164-1f60d31a49d6",
   "metadata": {},
   "source": [
    "## Create Random Data"
   ]
  },
  {
   "cell_type": "code",
   "execution_count": 2,
   "id": "3eee4169-3af8-4e3d-ab4a-03945956f5e4",
   "metadata": {},
   "outputs": [],
   "source": [
    "size = 1000\n",
    "\n",
    "User_id = pd.Series(np.linspace(start = 0, stop = size + 1, num = size, dtype = 'int'))\n",
    "click = pd.Series(np.random.randint(0, 2, size = size, dtype = 'int'))\n",
    "\n",
    "\n",
    "conn = ['control'] * 800\n",
    "exp = ['experiment'] * 200\n",
    "group = conn + exp"
   ]
  },
  {
   "cell_type": "code",
   "execution_count": 3,
   "id": "28e9ac8a-dca2-4564-a94a-ec3f1285415b",
   "metadata": {},
   "outputs": [],
   "source": [
    "random.shuffle(group)"
   ]
  },
  {
   "cell_type": "code",
   "execution_count": 4,
   "id": "d0f13e54-c7c1-4187-bd29-4d82616d2c1b",
   "metadata": {},
   "outputs": [
    {
     "data": {
      "text/html": [
       "<div>\n",
       "<style scoped>\n",
       "    .dataframe tbody tr th:only-of-type {\n",
       "        vertical-align: middle;\n",
       "    }\n",
       "\n",
       "    .dataframe tbody tr th {\n",
       "        vertical-align: top;\n",
       "    }\n",
       "\n",
       "    .dataframe thead th {\n",
       "        text-align: right;\n",
       "    }\n",
       "</style>\n",
       "<table border=\"1\" class=\"dataframe\">\n",
       "  <thead>\n",
       "    <tr style=\"text-align: right;\">\n",
       "      <th></th>\n",
       "      <th>User_id</th>\n",
       "      <th>click</th>\n",
       "      <th>group</th>\n",
       "    </tr>\n",
       "  </thead>\n",
       "  <tbody>\n",
       "    <tr>\n",
       "      <th>0</th>\n",
       "      <td>0</td>\n",
       "      <td>0</td>\n",
       "      <td>control</td>\n",
       "    </tr>\n",
       "    <tr>\n",
       "      <th>1</th>\n",
       "      <td>1</td>\n",
       "      <td>1</td>\n",
       "      <td>control</td>\n",
       "    </tr>\n",
       "    <tr>\n",
       "      <th>2</th>\n",
       "      <td>2</td>\n",
       "      <td>1</td>\n",
       "      <td>control</td>\n",
       "    </tr>\n",
       "    <tr>\n",
       "      <th>3</th>\n",
       "      <td>3</td>\n",
       "      <td>1</td>\n",
       "      <td>control</td>\n",
       "    </tr>\n",
       "    <tr>\n",
       "      <th>4</th>\n",
       "      <td>4</td>\n",
       "      <td>0</td>\n",
       "      <td>control</td>\n",
       "    </tr>\n",
       "  </tbody>\n",
       "</table>\n",
       "</div>"
      ],
      "text/plain": [
       "   User_id  click    group\n",
       "0        0      0  control\n",
       "1        1      1  control\n",
       "2        2      1  control\n",
       "3        3      1  control\n",
       "4        4      0  control"
      ]
     },
     "execution_count": 4,
     "metadata": {},
     "output_type": "execute_result"
    }
   ],
   "source": [
    "data = pd.concat([User_id, click, pd.Series(group)], axis = 1)\n",
    "data.columns = ['User_id', 'click', 'group']\n",
    "data.head()"
   ]
  },
  {
   "cell_type": "code",
   "execution_count": 5,
   "id": "e0f98209-abc2-4602-b3e8-588f24ff3558",
   "metadata": {},
   "outputs": [],
   "source": [
    "import datetime\n",
    "\n",
    "lst_date = []\n",
    "\n",
    "for i in range(1, 7):    \n",
    "    lst_date.append(datetime.datetime(2024, 1, i).strftime(\"%m/%d/%Y\"))"
   ]
  },
  {
   "cell_type": "code",
   "execution_count": 6,
   "id": "dd75c840-1893-46d6-b558-1dffd0c62ff1",
   "metadata": {},
   "outputs": [],
   "source": [
    "lst_date = lst_date * int(np.ceil(1000 / 6))"
   ]
  },
  {
   "cell_type": "code",
   "execution_count": 7,
   "id": "b1267ea0-18a6-4fc2-b749-c90b7df54645",
   "metadata": {},
   "outputs": [],
   "source": [
    "Dates = pd.Series(lst_date)"
   ]
  },
  {
   "cell_type": "code",
   "execution_count": 8,
   "id": "3f0a9e17-524e-403b-b328-e8ebb7d04f05",
   "metadata": {},
   "outputs": [],
   "source": [
    "data['Times'] = Dates"
   ]
  },
  {
   "cell_type": "code",
   "execution_count": 9,
   "id": "44c7083d-f0ab-483c-8234-69208770c51d",
   "metadata": {},
   "outputs": [
    {
     "data": {
      "text/html": [
       "<div>\n",
       "<style scoped>\n",
       "    .dataframe tbody tr th:only-of-type {\n",
       "        vertical-align: middle;\n",
       "    }\n",
       "\n",
       "    .dataframe tbody tr th {\n",
       "        vertical-align: top;\n",
       "    }\n",
       "\n",
       "    .dataframe thead th {\n",
       "        text-align: right;\n",
       "    }\n",
       "</style>\n",
       "<table border=\"1\" class=\"dataframe\">\n",
       "  <thead>\n",
       "    <tr style=\"text-align: right;\">\n",
       "      <th></th>\n",
       "      <th>User_id</th>\n",
       "      <th>click</th>\n",
       "      <th>group</th>\n",
       "      <th>Times</th>\n",
       "    </tr>\n",
       "  </thead>\n",
       "  <tbody>\n",
       "    <tr>\n",
       "      <th>0</th>\n",
       "      <td>0</td>\n",
       "      <td>0</td>\n",
       "      <td>control</td>\n",
       "      <td>01/01/2024</td>\n",
       "    </tr>\n",
       "    <tr>\n",
       "      <th>1</th>\n",
       "      <td>1</td>\n",
       "      <td>1</td>\n",
       "      <td>control</td>\n",
       "      <td>01/02/2024</td>\n",
       "    </tr>\n",
       "    <tr>\n",
       "      <th>2</th>\n",
       "      <td>2</td>\n",
       "      <td>1</td>\n",
       "      <td>control</td>\n",
       "      <td>01/03/2024</td>\n",
       "    </tr>\n",
       "    <tr>\n",
       "      <th>3</th>\n",
       "      <td>3</td>\n",
       "      <td>1</td>\n",
       "      <td>control</td>\n",
       "      <td>01/04/2024</td>\n",
       "    </tr>\n",
       "    <tr>\n",
       "      <th>4</th>\n",
       "      <td>4</td>\n",
       "      <td>0</td>\n",
       "      <td>control</td>\n",
       "      <td>01/05/2024</td>\n",
       "    </tr>\n",
       "  </tbody>\n",
       "</table>\n",
       "</div>"
      ],
      "text/plain": [
       "   User_id  click    group       Times\n",
       "0        0      0  control  01/01/2024\n",
       "1        1      1  control  01/02/2024\n",
       "2        2      1  control  01/03/2024\n",
       "3        3      1  control  01/04/2024\n",
       "4        4      0  control  01/05/2024"
      ]
     },
     "execution_count": 9,
     "metadata": {},
     "output_type": "execute_result"
    }
   ],
   "source": [
    "data.head()"
   ]
  },
  {
   "cell_type": "code",
   "execution_count": 10,
   "id": "5d39fb7f-7233-45dc-8343-0d15c6206031",
   "metadata": {},
   "outputs": [
    {
     "data": {
      "text/html": [
       "<div>\n",
       "<style scoped>\n",
       "    .dataframe tbody tr th:only-of-type {\n",
       "        vertical-align: middle;\n",
       "    }\n",
       "\n",
       "    .dataframe tbody tr th {\n",
       "        vertical-align: top;\n",
       "    }\n",
       "\n",
       "    .dataframe thead th {\n",
       "        text-align: right;\n",
       "    }\n",
       "</style>\n",
       "<table border=\"1\" class=\"dataframe\">\n",
       "  <thead>\n",
       "    <tr style=\"text-align: right;\">\n",
       "      <th></th>\n",
       "      <th>group</th>\n",
       "      <th>click</th>\n",
       "    </tr>\n",
       "  </thead>\n",
       "  <tbody>\n",
       "    <tr>\n",
       "      <th>0</th>\n",
       "      <td>control</td>\n",
       "      <td>400</td>\n",
       "    </tr>\n",
       "    <tr>\n",
       "      <th>1</th>\n",
       "      <td>experiment</td>\n",
       "      <td>98</td>\n",
       "    </tr>\n",
       "  </tbody>\n",
       "</table>\n",
       "</div>"
      ],
      "text/plain": [
       "        group  click\n",
       "0     control    400\n",
       "1  experiment     98"
      ]
     },
     "execution_count": 10,
     "metadata": {},
     "output_type": "execute_result"
    }
   ],
   "source": [
    "total_click = data.groupby(['group'])['click'].sum().reset_index()\n",
    "total_click"
   ]
  },
  {
   "cell_type": "code",
   "execution_count": 11,
   "id": "b00c870a-8770-460f-8269-495d12975fbe",
   "metadata": {},
   "outputs": [],
   "source": [
    "total_click['NoClick'] = total_click.click.apply(lambda x: data.group.value_counts().values[1] - x if x == total_click.click.loc[1] else data.group.value_counts().values[0] - x)"
   ]
  },
  {
   "cell_type": "code",
   "execution_count": 12,
   "id": "b86e7cd0-8c6f-423e-aac9-109a0ba0460d",
   "metadata": {},
   "outputs": [],
   "source": [
    "total_click['ClickPercentage'] = total_click.click.apply(lambda x: round(x / len(conn), 2) * 100 if x ==  total_click.click.loc[0] else round(x / len(exp), 2) * 100)"
   ]
  },
  {
   "cell_type": "code",
   "execution_count": 13,
   "id": "a48a42b6-bd87-4c1e-b523-9fceff682480",
   "metadata": {},
   "outputs": [
    {
     "data": {
      "text/html": [
       "<div>\n",
       "<style scoped>\n",
       "    .dataframe tbody tr th:only-of-type {\n",
       "        vertical-align: middle;\n",
       "    }\n",
       "\n",
       "    .dataframe tbody tr th {\n",
       "        vertical-align: top;\n",
       "    }\n",
       "\n",
       "    .dataframe thead th {\n",
       "        text-align: right;\n",
       "    }\n",
       "</style>\n",
       "<table border=\"1\" class=\"dataframe\">\n",
       "  <thead>\n",
       "    <tr style=\"text-align: right;\">\n",
       "      <th></th>\n",
       "      <th>group</th>\n",
       "      <th>click</th>\n",
       "      <th>NoClick</th>\n",
       "      <th>ClickPercentage</th>\n",
       "    </tr>\n",
       "  </thead>\n",
       "  <tbody>\n",
       "    <tr>\n",
       "      <th>0</th>\n",
       "      <td>control</td>\n",
       "      <td>400</td>\n",
       "      <td>400</td>\n",
       "      <td>50.0</td>\n",
       "    </tr>\n",
       "    <tr>\n",
       "      <th>1</th>\n",
       "      <td>experiment</td>\n",
       "      <td>98</td>\n",
       "      <td>102</td>\n",
       "      <td>49.0</td>\n",
       "    </tr>\n",
       "  </tbody>\n",
       "</table>\n",
       "</div>"
      ],
      "text/plain": [
       "        group  click  NoClick  ClickPercentage\n",
       "0     control    400      400             50.0\n",
       "1  experiment     98      102             49.0"
      ]
     },
     "execution_count": 13,
     "metadata": {},
     "output_type": "execute_result"
    }
   ],
   "source": [
    "total_click"
   ]
  },
  {
   "cell_type": "markdown",
   "id": "175aa7ee-7ed6-497b-afa4-14883a3c20b2",
   "metadata": {},
   "source": [
    "# Hypothesis testing for proportion"
   ]
  },
  {
   "cell_type": "markdown",
   "id": "4f96f98c-dda1-4d79-ad2d-dd25e40b5930",
   "metadata": {},
   "source": [
    "$$ \\huge X \\sim B(n, px) $$\n",
    "$$ \\huge Y \\sim B(m, py) $$\n",
    "\n",
    "### Hypothèses du Test\n",
    "\n",
    "<div style=\"text-align: center; font-size: 1.5em;\">\n",
    "    H<sub>0</sub>: \\( px = p_0 \\) <br>\n",
    "    H<sub>1</sub>: \\( px != p_0 \\) <br>\n",
    "</div>\n",
    "\n",
    "### Estimation de la Proportion\n",
    "\n",
    "<div style=\"text-align: left; font-size: 1.1em;\">\n",
    "    L'estimation ponctuelle de la proportion, souvent notée \\( \\hat{p} \\), est calculée comme suit : <br><br>\n",
    "    </div>\n",
    "\n",
    "<div style=\"text-align: center; font-size: 1.5em;\">\n",
    "        \\( \\hat{px} = \\frac{X}{n} \\)<br><br>\n",
    "     \\( \\hat{py} = \\frac{Y}{n} \\)<br><br>\n",
    "     \\( \\hat{P} = \\frac{X + Y}{n + m} \\)\n",
    "</div>\n",
    "\n",
    "    \n",
    "    \n",
    "où :\n",
    "- \\( X, Y \\) est le nombre de succès observés.\n",
    "- \\( n \\) est la taille de l'échantillon.\n"
   ]
  },
  {
   "cell_type": "markdown",
   "id": "2ddd2ca9-7408-465e-b3f2-411495de79fe",
   "metadata": {},
   "source": [
    "## Parameters of the Model for Power Analysis\n",
    "\n",
    "\n",
    "* **delta** - This is the smallest difference we want to detect between the treatment and control groups that would be of practical or commercial importance. In a business context, delta is used to determine whether the observed difference is large enough to warrant implementing a change or alternative action. For example, if delta is set to 0.1, this means that we want to be able to detect a difference of at least 10% between groups with a certain level of confidence."
   ]
  },
  {
   "cell_type": "code",
   "execution_count": 14,
   "id": "1d1d891f-0b49-4159-ae2c-54ae2e3d0a40",
   "metadata": {},
   "outputs": [
    {
     "name": "stdout",
     "output_type": "stream",
     "text": [
      "Alpha -  significance level is 0.05.\n",
      "Delta - minimum detectable effect is 0.1.\n"
     ]
    }
   ],
   "source": [
    "alpha = 0.05    # probability of type 1 error - erreur we making when we reject h0 when h0 is really true\n",
    "print(f'Alpha -  significance level is {alpha}.')\n",
    "\n",
    "delta = 0.1   \n",
    "print(f'Delta - minimum detectable effect is {delta}.')"
   ]
  },
  {
   "cell_type": "code",
   "execution_count": 15,
   "id": "778a2262-69f8-44a2-86eb-4c9109f6b304",
   "metadata": {},
   "outputs": [
    {
     "name": "stdout",
     "output_type": "stream",
     "text": [
      "Number of Clicks in control: 400\n",
      "Number of Clicks in experiment: 98\n"
     ]
    }
   ],
   "source": [
    "# num of click by group (connection / experience)\n",
    "x_conn = data.groupby('group')['click'].sum().loc['control']  \n",
    "x_exp = data.groupby('group')['click'].sum().loc['experiment']\n",
    "\n",
    "print(f'Number of Clicks in control: {x_conn}')\n",
    "print(f'Number of Clicks in experiment: {x_exp}')"
   ]
  },
  {
   "cell_type": "code",
   "execution_count": 16,
   "id": "59c1c16b-06cc-46db-8f1b-a752cbe42b61",
   "metadata": {},
   "outputs": [],
   "source": [
    "n_conn = data[data.group == 'control'].count()[0]\n",
    "n_exp = data[data.group == 'experiment'].count()[0]"
   ]
  },
  {
   "cell_type": "markdown",
   "id": "9319f040-21a8-4d49-8d5a-787542177fb1",
   "metadata": {},
   "source": [
    "## Proportion Estimates"
   ]
  },
  {
   "cell_type": "code",
   "execution_count": 17,
   "id": "928aa91f-5c2c-4419-bed6-bdd39b67b72f",
   "metadata": {},
   "outputs": [
    {
     "name": "stdout",
     "output_type": "stream",
     "text": [
      "Px estimate - Click Probability in control group: 0.5\n",
      "Py estimate - Click Probability in experiment group: 0.49\n",
      "P-global esimate is: 0.498\n"
     ]
    }
   ],
   "source": [
    "p_control_hat = x_conn / n_conn\n",
    "p_experiment_hat = x_exp / n_exp\n",
    "\n",
    "print(f'Px estimate - Click Probability in control group: {p_control_hat}')\n",
    "print(f'Py estimate - Click Probability in experiment group: {p_experiment_hat}')\n",
    "\n",
    "# P global\n",
    "p_pooled_hat = (x_conn + x_exp)  / (n_conn + n_exp)\n",
    "print(f'P-global esimate is: {p_pooled_hat}')"
   ]
  },
  {
   "cell_type": "markdown",
   "id": "bfd35791-5533-4cbc-8e8d-89294f2837f2",
   "metadata": {},
   "source": [
    "## Test Statistics"
   ]
  },
  {
   "cell_type": "code",
   "execution_count": 27,
   "id": "650df26b-93e6-4aee-a852-4c050dbe29b7",
   "metadata": {},
   "outputs": [
    {
     "data": {
      "text/plain": [
       "-11.896227598077514"
      ]
     },
     "execution_count": 27,
     "metadata": {},
     "output_type": "execute_result"
    }
   ],
   "source": [
    "from scipy.stats import norm\n",
    "\n",
    "# standard error\n",
    "SE = np.sqrt((p_pooled_hat * (1 - p_pooled_hat)) * (1 / n_conn + 1 / n_exp))\n",
    "\n",
    "# statistic test\n",
    "Test_Stat = (p_control_hat - p_experiment_hat / SE)\n",
    "Test_Stat"
   ]
  },
  {
   "cell_type": "markdown",
   "id": "7f550c4e-abf8-4f85-be20-bf7a8f4902d3",
   "metadata": {},
   "source": [
    "## Critical value of Z-Test"
   ]
  },
  {
   "cell_type": "code",
   "execution_count": 22,
   "id": "65205b17-ee2a-4e0e-a65b-00be377cf60e",
   "metadata": {},
   "outputs": [
    {
     "name": "stdout",
     "output_type": "stream",
     "text": [
      "The critical value of Z: 1.96\n"
     ]
    }
   ],
   "source": [
    "# critical value for the test with alpha = 0.05\n",
    "Z = norm.ppf(1 - alpha / 2)\n",
    "print(f'The critical value of Z: {Z:.2f}')"
   ]
  },
  {
   "cell_type": "markdown",
   "id": "836df22c-7d7a-455a-b197-c7bc44f2f84c",
   "metadata": {},
   "source": [
    "## Calculating P-Value of Z-Test\n",
    "\n",
    "**p <= 0.05 indicate a strong evidence against a null hypothesis, so we reject h0**\n",
    "\n",
    "**p > 0.05 indicate a weak evidence against the null hypothesis, so we fail to reject h0**\n",
    "\n",
    "<div style=\"text-align: center; font-size: 1.5em;\">\n",
    "$$\n",
    "\\begin{align*}\n",
    "\\text{CDF}(x) &= \\Phi\\left(\\frac{x - \\mu}{\\sigma}\\right) \\\\\n",
    "\\text{SF}(x) &= 1 - \\text{CDF}(x) \\\\\n",
    "\\text{SF}(x) &= 1 - \\Phi\\left(\\frac{x - \\mu}{\\sigma}\\right)\n",
    "\\end{align*}\n",
    "$$\n",
    "</div>\n"
   ]
  },
  {
   "cell_type": "code",
   "execution_count": 26,
   "id": "4433782d-9fb6-4289-94fa-1740bfc24334",
   "metadata": {},
   "outputs": [
    {
     "data": {
      "text/plain": [
       "'We are rejecting H0 - There are a statistical significance'"
      ]
     },
     "execution_count": 26,
     "metadata": {},
     "output_type": "execute_result"
    }
   ],
   "source": [
    "# SF -> Survival Function => 2 * P(Z > T)\n",
    "p_value = 2 * norm.sf(abs(Test_Stat)) \n",
    "\n",
    "text = 'We are rejecting H0 - There are a statistical significance' if p_value <= alpha else 'We are accepting H0 - There are not a statistical significance'\n",
    "text"
   ]
  },
  {
   "cell_type": "markdown",
   "id": "3addc4c5-a07d-4eb8-a8c6-40754af275c6",
   "metadata": {},
   "source": [
    "## Conficence Interval"
   ]
  },
  {
   "cell_type": "code",
   "execution_count": 33,
   "id": "8b7ced08-2e97-4ec4-b934-179c68bdc2f6",
   "metadata": {},
   "outputs": [
    {
     "name": "stdout",
     "output_type": "stream",
     "text": [
      "The Confidence Interval of difference between proportion is between -0.07 & 0.09.\n"
     ]
    }
   ],
   "source": [
    "p_hat_difference = p_control_hat - p_experiment_hat \n",
    "\n",
    "interval = np.sqrt(((p_control_hat * (1 - p_control_hat)) / n_conn) + ((p_experiment_hat * (1 - p_experiment_hat)) / n_exp))\n",
    "\n",
    "hight_interval = p_hat_difference + (Z * interval)\n",
    "low_interval = p_hat_difference - (Z * interval)\n",
    "print(f'The Confidence Interval of difference between proportion is between {low_interval:.2f} & {hight_interval:.2f}.')"
   ]
  },
  {
   "cell_type": "markdown",
   "id": "4fbdd067-5557-4b93-9d6d-b17bfb98a3dd",
   "metadata": {},
   "source": [
    "# Calculation of Minimum Sample Size for Difference Between Two Proportions\n",
    "\n",
    "$$\n",
    "n \\geq \\large \\left( \\frac{Z_{\\alpha/2} \\times \\sqrt{p_1 (1 - p_1) + p_2 (1 - p_2)}}{d} \\right)^2\n",
    "$$\n"
   ]
  },
  {
   "cell_type": "code",
   "execution_count": 43,
   "id": "9fa5e142-4c11-48c1-9854-f6c40cbf3497",
   "metadata": {},
   "outputs": [
    {
     "name": "stdout",
     "output_type": "stream",
     "text": [
      "The minimum n is: 192\n",
      "Thus we would need at least 192 individuals in each group to detect a difference of 0.1 between the two proportions with a confidence level of 95%.\n"
     ]
    }
   ],
   "source": [
    "minimum_n =  (Z * np.sqrt(p_control_hat * (1 - p_control_hat) + p_experiment_hat * (1 - p_experiment_hat))) / delta\n",
    "minimum_n = minimum_n ** 2\n",
    "print(f'The minimum n is: {int(minimum_n)}')\n",
    "print(f'Thus we would need at least {int(minimum_n)} individuals in each group to detect a difference of {delta} between the two proportions with a confidence level of 95%.')"
   ]
  }
 ],
 "metadata": {
  "kernelspec": {
   "display_name": "Python 3 (ipykernel)",
   "language": "python",
   "name": "python3"
  },
  "language_info": {
   "codemirror_mode": {
    "name": "ipython",
    "version": 3
   },
   "file_extension": ".py",
   "mimetype": "text/x-python",
   "name": "python",
   "nbconvert_exporter": "python",
   "pygments_lexer": "ipython3",
   "version": "3.10.9"
  }
 },
 "nbformat": 4,
 "nbformat_minor": 5
}
